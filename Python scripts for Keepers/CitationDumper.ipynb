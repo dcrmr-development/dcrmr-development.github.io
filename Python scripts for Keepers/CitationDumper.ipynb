{
 "cells": [
  {
   "cell_type": "code",
   "execution_count": 1,
   "id": "06a67e36",
   "metadata": {},
   "outputs": [],
   "source": [
    "import docx\n",
    "import re\n",
    "import csv"
   ]
  },
  {
   "cell_type": "code",
   "execution_count": 2,
   "id": "94af8af7",
   "metadata": {},
   "outputs": [],
   "source": [
    "doc = docx.Document('_composed.docx')\n",
    "fullText = []\n",
    "citationList = []"
   ]
  },
  {
   "cell_type": "code",
   "execution_count": 3,
   "id": "ce77c13f",
   "metadata": {},
   "outputs": [],
   "source": [
    "for para in doc.paragraphs:\n",
    "    fullText.append(para.text)"
   ]
  },
  {
   "cell_type": "code",
   "execution_count": 4,
   "id": "4a6ef927",
   "metadata": {},
   "outputs": [],
   "source": [
    "fullTextstring = str(fullText)"
   ]
  },
  {
   "cell_type": "code",
   "execution_count": 5,
   "id": "f0c3d373",
   "metadata": {},
   "outputs": [],
   "source": [
    "regex = r\"[0-9]+\\.[0-9]+\\.[0-9]+\\.[0-9]+\\.[Y]\\.[Y]|[0-9]+\\.[0-9]+\\.[0-9]+\\.[Y]\\.[Y]|[0-9]+\\.[0-9]+\\.[0-9]+\\.[0-9]+|[0-9]+\\.[0-9]+\\.[0-9]+|[a-zA-Z]\\.[0-9]+\\.[0-9]+\\.[0-9]+|[a-zA-Z]\\.[0-9]+\\.[0-9]+\""
   ]
  },
  {
   "cell_type": "code",
   "execution_count": 6,
   "id": "b2b12f33",
   "metadata": {},
   "outputs": [],
   "source": [
    "results = re.findall(regex,fullTextstring)"
   ]
  },
  {
   "cell_type": "code",
   "execution_count": 7,
   "id": "04a68649",
   "metadata": {},
   "outputs": [],
   "source": [
    "auxiliaryList = []\n",
    "for citation in results:\n",
    "    if citation not in auxiliaryList:\n",
    "        auxiliaryList.append(citation)"
   ]
  },
  {
   "cell_type": "code",
   "execution_count": 8,
   "id": "c405756f",
   "metadata": {},
   "outputs": [],
   "source": [
    "with open('citations.txt', 'w') as f:\n",
    "    for line in auxiliaryList:\n",
    "        f.write(line)\n",
    "        f.write('\\n')"
   ]
  },
  {
   "cell_type": "code",
   "execution_count": null,
   "id": "6b13480b",
   "metadata": {},
   "outputs": [],
   "source": []
  }
 ],
 "metadata": {
  "kernelspec": {
   "display_name": "Python 3",
   "language": "python",
   "name": "python3"
  },
  "language_info": {
   "codemirror_mode": {
    "name": "ipython",
    "version": 3
   },
   "file_extension": ".py",
   "mimetype": "text/x-python",
   "name": "python",
   "nbconvert_exporter": "python",
   "pygments_lexer": "ipython3",
   "version": "3.8.8"
  }
 },
 "nbformat": 4,
 "nbformat_minor": 5
}
